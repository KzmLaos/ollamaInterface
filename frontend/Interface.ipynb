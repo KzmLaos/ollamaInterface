{
 "cells": [
  {
   "cell_type": "markdown",
   "id": "09983f1e-8ef0-4478-89ae-04c9e8259adf",
   "metadata": {},
   "source": [
    "# RAInbow"
   ]
  },
  {
   "cell_type": "markdown",
   "id": "eaa72b3d-8e3d-41ac-92e5-9d57f295b8b8",
   "metadata": {},
   "source": [
    "This is the interface for the RAInbow project, it will work on top of a Jupyter notebook that will use Vue and Voila for the rendering of the dashboard."
   ]
  },
  {
   "cell_type": "code",
   "execution_count": 3,
   "id": "c76d3818-8026-472d-9823-0d975fe5e87b",
   "metadata": {},
   "outputs": [],
   "source": [
    "## @package MLigther                                                              \n",
    "#    Copyright 2024 Kazim Laos A. and Hector D. Menendez                                            \n",
    "#                                                                                 \n",
    "#   Licensed under the Apache License, Version 2.0 (the \"License\");               \n",
    "#   you may not use this file except in compliance with the License.              \n",
    "#   You may obtain a copy of the License at                                       \n",
    "#                                                                                 \n",
    "#       http://www.apache.org/licenses/LICENSE-2.0                                \n",
    "#                                                                                 \n",
    "#   Unless required by applicable law or agreed to in writing, software           \n",
    "#   distributed under the License is distributed on an \"AS IS\" BASIS,             \n",
    "#   WITHOUT WARRANTIES OR CONDITIONS OF ANY KIND, either express or implied.      \n",
    "#   See the License for the specific language governing permissions and           \n",
    "#   limitations under the License.                                                \n",
    "#                                                                                 \n",
    "#  Documentation for this module.                                                 \n",
    "#                                                                                 \n",
    "#  More details.  "
   ]
  },
  {
   "cell_type": "code",
   "execution_count": 4,
   "id": "642cefb5-f50c-4090-b947-2df03819e4d3",
   "metadata": {},
   "outputs": [],
   "source": [
    "#This code is to load the widgets\n",
    "import ipywidgets as widgets\n",
    "import ipyvuetify as v\n",
    "from IPython.display import display\n"
   ]
  },
  {
   "cell_type": "code",
   "execution_count": 5,
   "id": "2d3605c1-3c65-481d-9846-380e58ae30ed",
   "metadata": {},
   "outputs": [],
   "source": [
    "#This is the main title of the interface\n",
    "\n",
    "appbar_title = v.ToolbarTitle(\n",
    "    _metadata={'mount_id':'content-title'},\n",
    "    children=['RAInbow']\n",
    ")\n",
    "\n",
    "#This is the subtitle\n",
    "appbar_subtitle = v.ToolbarTitle(\n",
    "    _metadata={'mount_id':'content-bar'},\n",
    "    children=['RAInbow Main Menu']\n",
    ")"
   ]
  },
  {
   "cell_type": "code",
   "execution_count": 9,
   "id": "80170945-758a-4fda-9f27-900a6c300da2",
   "metadata": {},
   "outputs": [
    {
     "data": {
      "application/vnd.jupyter.widget-view+json": {
       "model_id": "0074021b109843b0b779dda4c8a0f6c5",
       "version_major": 2,
       "version_minor": 0
      },
      "text/plain": [
       "Btn(children=[Icon(children=['mdi-send-outline'], layout=None, left=True), 'Send'], color='primary', layout=No…"
      ]
     },
     "execution_count": 9,
     "metadata": {},
     "output_type": "execute_result"
    }
   ],
   "source": [
    "button=v.Btn(color='primary', children=[\n",
    "    v.Icon(left=True, children=[\n",
    "            'mdi-send-outline'\n",
    "        ]),'Send'])\n",
    "button"
   ]
  },
  {
   "cell_type": "code",
   "execution_count": 11,
   "id": "a56b2f6f-cb22-49a0-9aa1-eb86425dc407",
   "metadata": {},
   "outputs": [
    {
     "data": {
      "application/vnd.jupyter.widget-view+json": {
       "model_id": "e351d5bf612b4723aee5ce9f15092638",
       "version_major": 2,
       "version_minor": 0
      },
      "text/plain": [
       "Card(children=['Element 1'], layout=None, outlined=True, style_='height: 400px')"
      ]
     },
     "execution_count": 11,
     "metadata": {},
     "output_type": "execute_result"
    }
   ],
   "source": [
    "ChatBox= v.Card(outlined=True, style_='height: 400px', children=[f'Element 1'])\n",
    "ChatBox"
   ]
  },
  {
   "cell_type": "code",
   "execution_count": 14,
   "id": "0171e081-cc92-4499-91de-bbebe4a713d2",
   "metadata": {},
   "outputs": [
    {
     "data": {
      "application/vnd.jupyter.widget-view+json": {
       "model_id": "a5446fb5fa3b47f68f6a32c592df30c9",
       "version_major": 2,
       "version_minor": 0
      },
      "text/plain": [
       "Textarea(value='Hello World', description='String:', placeholder='Type something')"
      ]
     },
     "execution_count": 14,
     "metadata": {},
     "output_type": "execute_result"
    }
   ],
   "source": [
    "message=widgets.Textarea(\n",
    "    value='Hello World',\n",
    "    placeholder='Type something',\n",
    "    description='String:',\n",
    "    disabled=False\n",
    ")\n",
    "message"
   ]
  },
  {
   "cell_type": "code",
   "execution_count": 13,
   "id": "17745476-32ed-4c2a-b052-322674be55bb",
   "metadata": {},
   "outputs": [
    {
     "name": "stdout",
     "output_type": "stream",
     "text": [
      "Hi, how are you?\n"
     ]
    }
   ],
   "source": [
    "print(message.value)"
   ]
  },
  {
   "cell_type": "code",
   "execution_count": 15,
   "id": "d7882561-511a-41ad-82b7-ec48e3ffd4e4",
   "metadata": {},
   "outputs": [
    {
     "data": {
      "application/vnd.jupyter.widget-view+json": {
       "model_id": "c0913630b12b485684ee8f850b738f69",
       "version_major": 2,
       "version_minor": 0
      },
      "text/plain": [
       "Layout(align_center=True, children=[Flex(children=[Container(children=[Card(children=['Element 1'], layout=Non…"
      ]
     },
     "execution_count": 15,
     "metadata": {},
     "output_type": "execute_result"
    }
   ],
   "source": [
    "pageMain=v.Layout(row=True, wrap=True, align_center=True, children=[\n",
    "            v.Flex(xs12=True, lg6=True, xl4=True,  pa_4=True, children=[\n",
    "                v.Container(children=[ChatBox,message,button])\n",
    "            ]),\n",
    "        ])\n",
    "pageMain"
   ]
  },
  {
   "cell_type": "code",
   "execution_count": 1,
   "id": "ddade433-3c5e-4346-8a20-a709a29ca153",
   "metadata": {},
   "outputs": [
    {
     "ename": "NameError",
     "evalue": "name 'v' is not defined",
     "output_type": "error",
     "traceback": [
      "\u001b[0;31m---------------------------------------------------------------------------\u001b[0m",
      "\u001b[0;31mNameError\u001b[0m                                 Traceback (most recent call last)",
      "Cell \u001b[0;32mIn[1], line 1\u001b[0m\n\u001b[0;32m----> 1\u001b[0m content_main \u001b[38;5;241m=\u001b[39m \u001b[43mv\u001b[49m\u001b[38;5;241m.\u001b[39mLayout(\n\u001b[1;32m      2\u001b[0m     _metadata\u001b[38;5;241m=\u001b[39m{\u001b[38;5;124m'\u001b[39m\u001b[38;5;124mmount_id\u001b[39m\u001b[38;5;124m'\u001b[39m: \u001b[38;5;124m'\u001b[39m\u001b[38;5;124mcontent-main\u001b[39m\u001b[38;5;124m'\u001b[39m},\n\u001b[1;32m      3\u001b[0m     children\u001b[38;5;241m=\u001b[39m[pageMain]\n\u001b[1;32m      4\u001b[0m )\n",
      "\u001b[0;31mNameError\u001b[0m: name 'v' is not defined"
     ]
    }
   ],
   "source": [
    "content_main = v.Layout(\n",
    "    _metadata={'mount_id': 'content-main'},\n",
    "    children=[pageMain]\n",
    ")"
   ]
  },
  {
   "cell_type": "code",
   "execution_count": 5,
   "id": "ae97b559-6d16-4db6-8305-e8001d50f000",
   "metadata": {},
   "outputs": [],
   "source": [
    "#mainTitle=\"MLighter\"\n",
    "\n",
    "#mainString1=\"Welcome to MLighter, your holistic tool to test machine learning implementations. Here, you \\\n",
    "#have two main options, testing your code or testing you machine learning model.\"\n",
    "\n",
    "#codeString1=\"If you want to \"\n",
    "#codeString2=\"test your code\"\n",
    "#codeString3=\", you can either run an active testing or perform a code review \\\n",
    "#using our database of vulnerabilities in machine learning implementations.\"\n",
    "\n",
    "#modelString1=\"If you want to \"\n",
    "#modelString2=\"test your model\"\n",
    "#modelString3=\", you just need to upload your model with some data and select \\\n",
    "#and adversarial scenario. MLighter will aim to identify variants to your model based on your criteria to \\\n",
    "#measure its robustness.\"\n",
    "\n"
   ]
  },
  {
   "cell_type": "code",
   "execution_count": 7,
   "id": "dfbf6538-b4db-460a-9e27-0a3cd8dfd664",
   "metadata": {},
   "outputs": [
    {
     "data": {
      "application/vnd.jupyter.widget-view+json": {
       "model_id": "10893dda62634c0d9a35a585a6be1c89",
       "version_major": 2,
       "version_minor": 0
      },
      "text/plain": [
       "Img(layout=None, src='logo.png', width=200.0)"
      ]
     },
     "metadata": {},
     "output_type": "display_data"
    },
    {
     "name": "stdout",
     "output_type": "stream",
     "text": [
      "Img(layout=None, src='logo.png', width=200.0)\n"
     ]
    }
   ],
   "source": [
    "'''generalSpace=v.Html(\n",
    "        tag='br'\n",
    "    )\n",
    "\n",
    "mainTitle=v.Html(\n",
    "        tag='h1',\n",
    "        attributes={'title': 'a title'},\n",
    "        children=[mainTitle],\n",
    "        style_=\"text-align:center\"\n",
    "    )\n",
    "\n",
    "mainLogo=v.Img(src=\"logo.png\",width=200)\n",
    "\n",
    "mainLogoCentre=v.Html(\n",
    "        tag='center',\n",
    "        attributes={'paragraph': 'p1'},\n",
    "        children=[mainLogo]\n",
    "    )\n",
    "mainParagh1=v.Html(\n",
    "        tag='p',\n",
    "        attributes={'paragraph': 'p1'},\n",
    "        children=[mainString1]\n",
    "    )\n",
    "\n",
    "mainParagh2Bold=v.Html(\n",
    "        tag='b',\n",
    "        attributes={'paragraph': 'p1'},\n",
    "        children=[codeString2]\n",
    "    )\n",
    "\n",
    "\n",
    "mainParagh2=v.Html(\n",
    "        tag='p',\n",
    "        attributes={'paragraph': 'p1'},\n",
    "        children=[codeString1,mainParagh2Bold,codeString3]\n",
    "    )\n",
    "\n",
    "mainParagh3Bold=v.Html(\n",
    "        tag='b',\n",
    "        attributes={'paragraph': 'p1'},\n",
    "        children=[modelString2]\n",
    "    )\n",
    "\n",
    "mainParagh3=v.Html(\n",
    "        tag='p',\n",
    "        attributes={'paragraph': 'p1'},\n",
    "        children=[modelString1,mainParagh3Bold,modelString3]\n",
    "    )\n",
    "\n",
    "display(mainLogo)\n",
    "print(mainLogo)'''"
   ]
  },
  {
   "cell_type": "code",
   "execution_count": 8,
   "id": "c6d81a1d-200e-45de-a9fd-a95d9b9b689e",
   "metadata": {},
   "outputs": [
    {
     "data": {
      "application/vnd.jupyter.widget-view+json": {
       "model_id": "139fa7a432694f3d8c40a5db9b8ffc40",
       "version_major": 2,
       "version_minor": 0
      },
      "text/plain": [
       "Layout(align_center=True, children=[Flex(children=[Container(children=[Html(attributes={'paragraph': 'p1'}, ch…"
      ]
     },
     "execution_count": 8,
     "metadata": {},
     "output_type": "execute_result"
    }
   ],
   "source": [
    "'''pageMain=v.Layout(row=True, wrap=True, align_center=True, children=[\n",
    "            v.Flex(xs12=True, lg6=True, xl4=True,  pa_4=True, children=[\n",
    "                v.Container(children=[mainLogoCentre,generalSpace,mainTitle,generalSpace,mainParagh1,mainParagh2,mainParagh3])\n",
    "            ]),\n",
    "        ])\n",
    "pageMain'''"
   ]
  },
  {
   "cell_type": "code",
   "execution_count": null,
   "id": "b8b8382d-5c80-475c-abd4-b5b02131bd32",
   "metadata": {},
   "outputs": [],
   "source": []
  }
 ],
 "metadata": {
  "kernelspec": {
   "display_name": "Python 3 (ipykernel)",
   "language": "python",
   "name": "python3"
  },
  "language_info": {
   "codemirror_mode": {
    "name": "ipython",
    "version": 3
   },
   "file_extension": ".py",
   "mimetype": "text/x-python",
   "name": "python",
   "nbconvert_exporter": "python",
   "pygments_lexer": "ipython3",
   "version": "3.11.2"
  }
 },
 "nbformat": 4,
 "nbformat_minor": 5
}
