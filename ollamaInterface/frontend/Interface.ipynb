{
 "cells": [
  {
   "cell_type": "markdown",
   "id": "09983f1e-8ef0-4478-89ae-04c9e8259adf",
   "metadata": {},
   "source": [
    "# RAInbow"
   ]
  },
  {
   "cell_type": "markdown",
   "id": "eaa72b3d-8e3d-41ac-92e5-9d57f295b8b8",
   "metadata": {},
   "source": [
    "This is the interface for the RAInbow project, it will work on top of a Jupyter notebook that will use Vue and Voila for the rendering of the dashboard."
   ]
  },
  {
   "cell_type": "code",
   "execution_count": 1,
   "id": "c76d3818-8026-472d-9823-0d975fe5e87b",
   "metadata": {},
   "outputs": [],
   "source": [
    "## @package MLigther                                                              \n",
    "#    Copyright 2024 Kazim Laos A. and Hector D. Menendez                                            \n",
    "#                                                                                 \n",
    "#   Licensed under the Apache License, Version 2.0 (the \"License\");               \n",
    "#   you may not use this file except in compliance with the License.              \n",
    "#   You may obtain a copy of the License at                                       \n",
    "#                                                                                 \n",
    "#       http://www.apache.org/licenses/LICENSE-2.0                                \n",
    "#                                                                                 \n",
    "#   Unless required by applicable law or agreed to in writing, software           \n",
    "#   distributed under the License is distributed on an \"AS IS\" BASIS,             \n",
    "#   WITHOUT WARRANTIES OR CONDITIONS OF ANY KIND, either express or implied.      \n",
    "#   See the License for the specific language governing permissions and           \n",
    "#   limitations under the License.                                                \n",
    "#                                                                                 \n",
    "#  Documentation for this module.                                                 \n",
    "#                                                                                 \n",
    "#  More details.  "
   ]
  },
  {
   "cell_type": "code",
   "execution_count": 2,
   "id": "642cefb5-f50c-4090-b947-2df03819e4d3",
   "metadata": {},
   "outputs": [],
   "source": [
    "#This code is to load the widgets\n",
    "import ipywidgets as widgets\n",
    "import ipyvuetify as v\n",
    "from IPython.display import display\n",
    "import ollama"
   ]
  },
  {
   "cell_type": "code",
   "execution_count": 3,
   "id": "2d3605c1-3c65-481d-9846-380e58ae30ed",
   "metadata": {},
   "outputs": [],
   "source": [
    "#This is the main title of the interface\n",
    "\n",
    "appbar_title = v.ToolbarTitle(\n",
    "    _metadata={'mount_id':'content-title'},\n",
    "    children=['RAInbow']\n",
    ")\n",
    "\n",
    "#This is the subtitle\n",
    "appbar_subtitle = v.ToolbarTitle(\n",
    "    _metadata={'mount_id':'content-bar'},\n",
    "    children=['RAInbow Main Menu']\n",
    ")"
   ]
  },
  {
   "cell_type": "code",
   "execution_count": 4,
   "id": "80170945-758a-4fda-9f27-900a6c300da2",
   "metadata": {},
   "outputs": [
    {
     "data": {
      "application/vnd.jupyter.widget-view+json": {
       "model_id": "e6c9eac758ca4909afc6238f1a72cad5",
       "version_major": 2,
       "version_minor": 0
      },
      "text/plain": [
       "Btn(children=[Icon(children=['mdi-send-outline'], layout=None, left=True), 'Send'], color='primary', layout=No…"
      ]
     },
     "execution_count": 4,
     "metadata": {},
     "output_type": "execute_result"
    }
   ],
   "source": [
    "button=v.Btn(color='primary', children=[\n",
    "    v.Icon(left=True, children=[\n",
    "            'mdi-send-outline'\n",
    "        ]),'Send'])"
   ]
  },
  {
   "cell_type": "code",
   "execution_count": 5,
   "id": "0f5ec456-de24-4cd8-bb76-efe242cdaf6e",
   "metadata": {},
   "outputs": [],
   "source": [
    "allStrings=[\"Hello, what do you want to know?\"]\n",
    "ChatBox= v.Card(outlined=True,  style_='height: 70%, width: 80%', children=allStrings)"
   ]
  },
  {
   "cell_type": "code",
   "execution_count": null,
   "id": "49fe61a6-885a-4c27-beee-b30d694de453",
   "metadata": {},
   "outputs": [],
   "source": [
    "#Once we have a Logo use this to upload it\n",
    "#mainLogo=v.Img(src=\"logo.png\",width=200)"
   ]
  },
  {
   "cell_type": "code",
   "execution_count": 6,
   "id": "0171e081-cc92-4499-91de-bbebe4a713d2",
   "metadata": {},
   "outputs": [
    {
     "data": {
      "application/vnd.jupyter.widget-view+json": {
       "model_id": "f07a7f53aa524c87a64964b0176a1960",
       "version_major": 2,
       "version_minor": 0
      },
      "text/plain": [
       "Text(value='Hello World', layout=Layout(width='80%'), placeholder='Type something')"
      ]
     },
     "execution_count": 6,
     "metadata": {},
     "output_type": "execute_result"
    }
   ],
   "source": [
    "message=widgets.Text(\n",
    "    value='Hello World',\n",
    "    placeholder='Type something',\n",
    "    layout = widgets.Layout(width='80%'),\n",
    "    disabled=False\n",
    ")"
   ]
  },
  {
   "cell_type": "code",
   "execution_count": 7,
   "id": "52a2b8e7-c6de-4858-98ed-46880410d736",
   "metadata": {},
   "outputs": [
    {
     "data": {
      "application/vnd.jupyter.widget-view+json": {
       "model_id": "81d23e50518d45d6b2e0ed9fd27b2157",
       "version_major": 2,
       "version_minor": 0
      },
      "text/plain": [
       "HBox(children=(Text(value='Hello World', layout=Layout(width='80%'), placeholder='Type something'), Btn(childr…"
      ]
     },
     "execution_count": 7,
     "metadata": {},
     "output_type": "execute_result"
    }
   ],
   "source": [
    "generalBox=widgets.HBox([message,button])"
   ]
  },
  {
   "cell_type": "code",
   "execution_count": 9,
   "id": "b1661dae-5758-4c1d-b33e-4a5d93a92dbc",
   "metadata": {},
   "outputs": [],
   "source": [
    "response=[]\n",
    "def formatText(text):\n",
    "    lines=text.splitlines()\n",
    "    output=[]\n",
    "    for line in lines:\n",
    "        if (line==''):\n",
    "            output.append(v.Html(\n",
    "                tag='br'\n",
    "                ))\n",
    "        else:\n",
    "            output.append(v.Html(\n",
    "                tag='p',\n",
    "                attributes={'paragraph': 'p1'},\n",
    "                children=[line]))\n",
    "    return output\n",
    "\n",
    "def sendMsg(widget, event, data):\n",
    "    button.disabled=True\n",
    "    response = ollama.chat(model='llama2', messages = [\n",
    "        {\n",
    "            'role' : 'user',\n",
    "            'content': message.value,\n",
    "        },\n",
    "    ])\n",
    "    print(response['message']['content'])\n",
    "    ChatBox.children=formatText(response[\"message\"][\"content\"])\n",
    "    button.disabled=False\n",
    "\n",
    "button.on_event('click', sendMsg)"
   ]
  },
  {
   "cell_type": "code",
   "execution_count": 10,
   "id": "d7882561-511a-41ad-82b7-ec48e3ffd4e4",
   "metadata": {},
   "outputs": [
    {
     "data": {
      "application/vnd.jupyter.widget-view+json": {
       "model_id": "271a3e2df4434007949dc53bd1c32758",
       "version_major": 2,
       "version_minor": 0
      },
      "text/plain": [
       "Layout(align_center=True, children=[Flex(children=[Container(children=[Card(children=['Hello, what do you want…"
      ]
     },
     "execution_count": 10,
     "metadata": {},
     "output_type": "execute_result"
    }
   ],
   "source": [
    "pageMain=v.Layout(row=True, wrap=True, align_center=True, children=[\n",
    "            v.Flex(xs12=True, lg6=True, xl4=True,  pa_4=True, children=[\n",
    "                v.Container(children=[ChatBox,generalBox])\n",
    "            ]),\n",
    "        ])"
   ]
  },
  {
   "cell_type": "code",
   "execution_count": 11,
   "id": "ddade433-3c5e-4346-8a20-a709a29ca153",
   "metadata": {},
   "outputs": [],
   "source": [
    "content_main = v.Layout(\n",
    "    _metadata={'mount_id': 'content-main'},\n",
    "    children=[pageMain]\n",
    ")"
   ]
  }
 ],
 "metadata": {
  "kernelspec": {
   "display_name": "Python 3 (ipykernel)",
   "language": "python",
   "name": "python3"
  },
  "language_info": {
   "codemirror_mode": {
    "name": "ipython",
    "version": 3
   },
   "file_extension": ".py",
   "mimetype": "text/x-python",
   "name": "python",
   "nbconvert_exporter": "python",
   "pygments_lexer": "ipython3",
   "version": "3.11.2"
  }
 },
 "nbformat": 4,
 "nbformat_minor": 5
}
