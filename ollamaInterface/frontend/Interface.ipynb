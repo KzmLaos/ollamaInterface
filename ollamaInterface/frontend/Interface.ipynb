{
 "cells": [
  {
   "cell_type": "markdown",
   "id": "09983f1e-8ef0-4478-89ae-04c9e8259adf",
   "metadata": {},
   "source": [
    "# RAInbow"
   ]
  },
  {
   "cell_type": "markdown",
   "id": "eaa72b3d-8e3d-41ac-92e5-9d57f295b8b8",
   "metadata": {},
   "source": [
    "This is the interface for the RAInbow project, it will work on top of a Jupyter notebook that will use Vue and Voila for the rendering of the dashboard."
   ]
  },
  {
   "cell_type": "code",
   "execution_count": 19,
   "id": "c76d3818-8026-472d-9823-0d975fe5e87b",
   "metadata": {},
   "outputs": [],
   "source": [
    "## @package MLigther                                                              \n",
    "#    Copyright 2024 Kazim Laos A. and Hector D. Menendez                                            \n",
    "#                                                                                 \n",
    "#   Licensed under the Apache License, Version 2.0 (the \"License\");               \n",
    "#   you may not use this file except in compliance with the License.              \n",
    "#   You may obtain a copy of the License at                                       \n",
    "#                                                                                 \n",
    "#       http://www.apache.org/licenses/LICENSE-2.0                                \n",
    "#                                                                                 \n",
    "#   Unless required by applicable law or agreed to in writing, software           \n",
    "#   distributed under the License is distributed on an \"AS IS\" BASIS,             \n",
    "#   WITHOUT WARRANTIES OR CONDITIONS OF ANY KIND, either express or implied.      \n",
    "#   See the License for the specific language governing permissions and           \n",
    "#   limitations under the License.                                                \n",
    "#                                                                                 \n",
    "#  Documentation for this module.                                                 \n",
    "#                                                                                 \n",
    "#  More details.  "
   ]
  },
  {
   "cell_type": "code",
   "execution_count": 20,
   "id": "642cefb5-f50c-4090-b947-2df03819e4d3",
   "metadata": {},
   "outputs": [],
   "source": [
    "#This code is to load the widgets\n",
    "import ipywidgets as widgets\n",
    "import ipyvuetify as v\n",
    "from IPython.display import display\n",
    "import ollama"
   ]
  },
  {
   "cell_type": "code",
   "execution_count": 21,
   "id": "2d3605c1-3c65-481d-9846-380e58ae30ed",
   "metadata": {},
   "outputs": [],
   "source": [
    "#This is the main title of the interface\n",
    "\n",
    "appbar_title = v.ToolbarTitle(\n",
    "    _metadata={'mount_id':'content-title'},\n",
    "    children=['RAInbow']\n",
    ")\n",
    "\n",
    "#This is the subtitle\n",
    "appbar_subtitle = v.ToolbarTitle(\n",
    "    _metadata={'mount_id':'content-bar'},\n",
    "    children=['RAInbow Main Menu']\n",
    ")"
   ]
  },
  {
   "cell_type": "code",
   "execution_count": 22,
   "id": "80170945-758a-4fda-9f27-900a6c300da2",
   "metadata": {},
   "outputs": [
    {
     "data": {
      "application/vnd.jupyter.widget-view+json": {
       "model_id": "ece8e7e082904f7c9df58e886505afc5",
       "version_major": 2,
       "version_minor": 0
      },
      "text/plain": [
       "Btn(children=[Icon(children=['mdi-send-outline'], layout=None, left=True), 'Send'], color='primary', layout=No…"
      ]
     },
     "execution_count": 22,
     "metadata": {},
     "output_type": "execute_result"
    }
   ],
   "source": [
    "button=v.Btn(color='primary', children=[\n",
    "    v.Icon(left=True, children=[\n",
    "            'mdi-send-outline'\n",
    "        ]),'Send'])\n",
    "button"
   ]
  },
  {
   "cell_type": "code",
   "execution_count": 39,
   "id": "0f5ec456-de24-4cd8-bb76-efe242cdaf6e",
   "metadata": {},
   "outputs": [],
   "source": [
    "allStrings=[\"Hello, what do you want to know?\"]\n",
    "ChatBox= v.Card(outlined=True,  style_='height: 70%, width: 80%', children=allStrings)\n"
   ]
  },
  {
   "cell_type": "code",
   "execution_count": 40,
   "id": "0171e081-cc92-4499-91de-bbebe4a713d2",
   "metadata": {},
   "outputs": [
    {
     "data": {
      "application/vnd.jupyter.widget-view+json": {
       "model_id": "d222f30e364f4a68a0ac69a18361991b",
       "version_major": 2,
       "version_minor": 0
      },
      "text/plain": [
       "Text(value='Hello World', layout=Layout(width='80%'), placeholder='Type something')"
      ]
     },
     "execution_count": 40,
     "metadata": {},
     "output_type": "execute_result"
    }
   ],
   "source": [
    "message=widgets.Text(\n",
    "    value='Hello World',\n",
    "    placeholder='Type something',\n",
    "    layout = widgets.Layout(width='80%'),\n",
    "    disabled=False\n",
    ")\n",
    "message"
   ]
  },
  {
   "cell_type": "code",
   "execution_count": 41,
   "id": "52a2b8e7-c6de-4858-98ed-46880410d736",
   "metadata": {},
   "outputs": [
    {
     "data": {
      "application/vnd.jupyter.widget-view+json": {
       "model_id": "9cfa981265b5491aa317b22e60f98507",
       "version_major": 2,
       "version_minor": 0
      },
      "text/plain": [
       "HBox(children=(Text(value='Hello World', layout=Layout(width='80%'), placeholder='Type something'), Btn(childr…"
      ]
     },
     "execution_count": 41,
     "metadata": {},
     "output_type": "execute_result"
    }
   ],
   "source": [
    "generalBox=widgets.HBox([message,button])\n",
    "generalBox"
   ]
  },
  {
   "cell_type": "code",
   "execution_count": 42,
   "id": "17745476-32ed-4c2a-b052-322674be55bb",
   "metadata": {},
   "outputs": [
    {
     "name": "stdout",
     "output_type": "stream",
     "text": [
      "Hello World\n"
     ]
    }
   ],
   "source": [
    "print(message.value)"
   ]
  },
  {
   "cell_type": "code",
   "execution_count": 43,
   "id": "b1661dae-5758-4c1d-b33e-4a5d93a92dbc",
   "metadata": {},
   "outputs": [],
   "source": [
    "def sendMsg(widget, event, data):\n",
    "    response = ollama.chat(model='tinyllama', messages = [\n",
    "        {\n",
    "            'role' : 'user',\n",
    "            'content': message.value,\n",
    "        },\n",
    "    ])\n",
    "    print(response['message']['content'])\n",
    "    ChatBox.children=response['message']['content']\n",
    "\n",
    "\n",
    "button.on_event('click', sendMsg)"
   ]
  },
  {
   "cell_type": "code",
   "execution_count": 44,
   "id": "d7882561-511a-41ad-82b7-ec48e3ffd4e4",
   "metadata": {},
   "outputs": [
    {
     "data": {
      "application/vnd.jupyter.widget-view+json": {
       "model_id": "e5cdab161fc94f739c283b15228160ce",
       "version_major": 2,
       "version_minor": 0
      },
      "text/plain": [
       "Layout(align_center=True, children=[Flex(children=[Container(children=[Card(children=['Hello, what do you want…"
      ]
     },
     "execution_count": 44,
     "metadata": {},
     "output_type": "execute_result"
    }
   ],
   "source": [
    "pageMain=v.Layout(row=True, wrap=True, align_center=True, children=[\n",
    "            v.Flex(xs12=True, lg6=True, xl4=True,  pa_4=True, children=[\n",
    "                v.Container(children=[ChatBox,generalBox])\n",
    "            ]),\n",
    "        ])\n",
    "pageMain"
   ]
  },
  {
   "cell_type": "code",
   "execution_count": 32,
   "id": "ddade433-3c5e-4346-8a20-a709a29ca153",
   "metadata": {},
   "outputs": [],
   "source": [
    "content_main = v.Layout(\n",
    "    _metadata={'mount_id': 'content-main'},\n",
    "    children=[pageMain]\n",
    ")"
   ]
  },
  {
   "cell_type": "code",
   "execution_count": 15,
   "id": "ae97b559-6d16-4db6-8305-e8001d50f000",
   "metadata": {},
   "outputs": [],
   "source": [
    "#mainTitle=\"MLighter\"\n",
    "\n",
    "#mainString1=\"Welcome to MLighter, your holistic tool to test machine learning implementations. Here, you \\\n",
    "#have two main options, testing your code or testing you machine learning model.\"\n",
    "\n",
    "#codeString1=\"If you want to \"\n",
    "#codeString2=\"test your code\"\n",
    "#codeString3=\", you can either run an active testing or perform a code review \\\n",
    "#using our database of vulnerabilities in machine learning implementations.\"\n",
    "\n",
    "#modelString1=\"If you want to \"\n",
    "#modelString2=\"test your model\"\n",
    "#modelString3=\", you just need to upload your model with some data and select \\\n",
    "#and adversarial scenario. MLighter will aim to identify variants to your model based on your criteria to \\\n",
    "#measure its robustness.\"\n",
    "\n"
   ]
  },
  {
   "cell_type": "code",
   "execution_count": 16,
   "id": "dfbf6538-b4db-460a-9e27-0a3cd8dfd664",
   "metadata": {},
   "outputs": [
    {
     "data": {
      "text/plain": [
       "'generalSpace=v.Html(\\n        tag=\\'br\\'\\n    )\\n\\nmainTitle=v.Html(\\n        tag=\\'h1\\',\\n        attributes={\\'title\\': \\'a title\\'},\\n        children=[mainTitle],\\n        style_=\"text-align:center\"\\n    )\\n\\nmainLogo=v.Img(src=\"logo.png\",width=200)\\n\\nmainLogoCentre=v.Html(\\n        tag=\\'center\\',\\n        attributes={\\'paragraph\\': \\'p1\\'},\\n        children=[mainLogo]\\n    )\\nmainParagh1=v.Html(\\n        tag=\\'p\\',\\n        attributes={\\'paragraph\\': \\'p1\\'},\\n        children=[mainString1]\\n    )\\n\\nmainParagh2Bold=v.Html(\\n        tag=\\'b\\',\\n        attributes={\\'paragraph\\': \\'p1\\'},\\n        children=[codeString2]\\n    )\\n\\n\\nmainParagh2=v.Html(\\n        tag=\\'p\\',\\n        attributes={\\'paragraph\\': \\'p1\\'},\\n        children=[codeString1,mainParagh2Bold,codeString3]\\n    )\\n\\nmainParagh3Bold=v.Html(\\n        tag=\\'b\\',\\n        attributes={\\'paragraph\\': \\'p1\\'},\\n        children=[modelString2]\\n    )\\n\\nmainParagh3=v.Html(\\n        tag=\\'p\\',\\n        attributes={\\'paragraph\\': \\'p1\\'},\\n        children=[modelString1,mainParagh3Bold,modelString3]\\n    )\\n\\ndisplay(mainLogo)\\nprint(mainLogo)'"
      ]
     },
     "execution_count": 16,
     "metadata": {},
     "output_type": "execute_result"
    }
   ],
   "source": [
    "'''generalSpace=v.Html(\n",
    "        tag='br'\n",
    "    )\n",
    "\n",
    "mainTitle=v.Html(\n",
    "        tag='h1',\n",
    "        attributes={'title': 'a title'},\n",
    "        children=[mainTitle],\n",
    "        style_=\"text-align:center\"\n",
    "    )\n",
    "\n",
    "mainLogo=v.Img(src=\"logo.png\",width=200)\n",
    "\n",
    "mainLogoCentre=v.Html(\n",
    "        tag='center',\n",
    "        attributes={'paragraph': 'p1'},\n",
    "        children=[mainLogo]\n",
    "    )\n",
    "mainParagh1=v.Html(\n",
    "        tag='p',\n",
    "        attributes={'paragraph': 'p1'},\n",
    "        children=[mainString1]\n",
    "    )\n",
    "\n",
    "mainParagh2Bold=v.Html(\n",
    "        tag='b',\n",
    "        attributes={'paragraph': 'p1'},\n",
    "        children=[codeString2]\n",
    "    )\n",
    "\n",
    "\n",
    "mainParagh2=v.Html(\n",
    "        tag='p',\n",
    "        attributes={'paragraph': 'p1'},\n",
    "        children=[codeString1,mainParagh2Bold,codeString3]\n",
    "    )\n",
    "\n",
    "mainParagh3Bold=v.Html(\n",
    "        tag='b',\n",
    "        attributes={'paragraph': 'p1'},\n",
    "        children=[modelString2]\n",
    "    )\n",
    "\n",
    "mainParagh3=v.Html(\n",
    "        tag='p',\n",
    "        attributes={'paragraph': 'p1'},\n",
    "        children=[modelString1,mainParagh3Bold,modelString3]\n",
    "    )\n",
    "\n",
    "display(mainLogo)\n",
    "print(mainLogo)'''"
   ]
  },
  {
   "cell_type": "code",
   "execution_count": 17,
   "id": "c6d81a1d-200e-45de-a9fd-a95d9b9b689e",
   "metadata": {},
   "outputs": [
    {
     "data": {
      "text/plain": [
       "'pageMain=v.Layout(row=True, wrap=True, align_center=True, children=[\\n            v.Flex(xs12=True, lg6=True, xl4=True,  pa_4=True, children=[\\n                v.Container(children=[mainLogoCentre,generalSpace,mainTitle,generalSpace,mainParagh1,mainParagh2,mainParagh3])\\n            ]),\\n        ])\\npageMain'"
      ]
     },
     "execution_count": 17,
     "metadata": {},
     "output_type": "execute_result"
    }
   ],
   "source": [
    "'''pageMain=v.Layout(row=True, wrap=True, align_center=True, children=[\n",
    "            v.Flex(xs12=True, lg6=True, xl4=True,  pa_4=True, children=[\n",
    "                v.Container(children=[mainLogoCentre,generalSpace,mainTitle,generalSpace,mainParagh1,mainParagh2,mainParagh3])\n",
    "            ]),\n",
    "        ])\n",
    "pageMain'''"
   ]
  },
  {
   "cell_type": "code",
   "execution_count": null,
   "id": "b8b8382d-5c80-475c-abd4-b5b02131bd32",
   "metadata": {},
   "outputs": [],
   "source": []
  }
 ],
 "metadata": {
  "kernelspec": {
   "display_name": "Python 3 (ipykernel)",
   "language": "python",
   "name": "python3"
  },
  "language_info": {
   "codemirror_mode": {
    "name": "ipython",
    "version": 3
   },
   "file_extension": ".py",
   "mimetype": "text/x-python",
   "name": "python",
   "nbconvert_exporter": "python",
   "pygments_lexer": "ipython3",
   "version": "3.11.2"
  }
 },
 "nbformat": 4,
 "nbformat_minor": 5
}
